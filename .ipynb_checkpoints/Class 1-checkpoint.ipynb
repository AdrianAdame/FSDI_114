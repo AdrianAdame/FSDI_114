{
 "cells": [
  {
   "cell_type": "code",
   "execution_count": 1,
   "id": "ff1c6bc0-a3c9-4a96-aa78-268f1f221d62",
   "metadata": {},
   "outputs": [
    {
     "name": "stdout",
     "output_type": "stream",
     "text": [
      "h\n",
      "e\n",
      "l\n",
      "l\n",
      "o\n",
      ",\n",
      " \n",
      "w\n",
      "o\n",
      "r\n",
      "l\n",
      "d\n"
     ]
    }
   ],
   "source": [
    "for letter in \"hello, world\":\n",
    "    print(letter)"
   ]
  },
  {
   "cell_type": "markdown",
   "id": "bef065b6-b7ae-40e3-a948-3206a934cf1c",
   "metadata": {},
   "source": [
    "# Problem 1\n",
    "## Anagram check\n",
    "### Create a function that recieves two string as patameters and returns True if these are anagrams of each other, False otherwise\n",
    "\n",
    "#### Criteria\n",
    "Two string are anagrams of each other if (and only if):\n",
    "1. They contain all the same letters\n",
    "2. They contain the same letters the same amount of times\n",
    "3. They contain the same number of letters\n",
    "\n",
    "```\n",
    "Example:\n",
    "heart and earth\n",
    "scar and cars\n",
    "star and rats\n",
    "```"
   ]
  },
  {
   "cell_type": "code",
   "execution_count": 17,
   "id": "e101b1db-a8d6-4730-ba6d-27941a18ac22",
   "metadata": {},
   "outputs": [],
   "source": [
    "def anagram_check(str1 : str, str2 : str) -> bool :\n",
    "    str1 = str1.lower()\n",
    "    str2 = str2.lower()\n",
    "\n",
    "    str1 = str1.replace(' ', '')\n",
    "    str2 = str2.replace(' ', '')\n",
    "\n",
    "    for c in str1:\n",
    "        if c.isdigit():\n",
    "            return False\n",
    "\n",
    "    for c in str2:\n",
    "        if c.isdigit():\n",
    "            return False\n",
    "\n",
    "    if len(str1) != len(str2):\n",
    "        return False\n",
    "    \n",
    "    same = {}\n",
    "    for c in str1:\n",
    "        if c not in same.keys():\n",
    "            same[c] = 1\n",
    "        else:\n",
    "            same[c] += 1\n",
    "\n",
    "    same2 = {}\n",
    "    for c in str2:\n",
    "        if c not in same2.keys():\n",
    "            same2[c] = 1\n",
    "        else:\n",
    "            same2[c] += 1\n",
    "    \n",
    "    # print(same.items())\n",
    "    # print(same2.items())\n",
    "\n",
    "    if same.items() != same2.items():\n",
    "        return False\n",
    "        \n",
    "    return True\n",
    "\n",
    "    "
   ]
  },
  {
   "cell_type": "code",
   "execution_count": 18,
   "id": "7955166e-840e-41c3-b5a4-2fbfcef380c7",
   "metadata": {},
   "outputs": [
    {
     "name": "stdout",
     "output_type": "stream",
     "text": [
      "True\n",
      "True\n",
      "True\n",
      "True\n"
     ]
    }
   ],
   "source": [
    "print(anagram_check('heart', 'Earth'))\n",
    "print(anagram_check('scar', 'Cars'))\n",
    "print(anagram_check('STaR', 'RATS'))\n",
    "print(anagram_check('Tom Marvolo Riddle', 'Iamlordvoldemort'))"
   ]
  }
 ],
 "metadata": {
  "kernelspec": {
   "display_name": "Python 3 (ipykernel)",
   "language": "python",
   "name": "python3"
  },
  "language_info": {
   "codemirror_mode": {
    "name": "ipython",
    "version": 3
   },
   "file_extension": ".py",
   "mimetype": "text/x-python",
   "name": "python",
   "nbconvert_exporter": "python",
   "pygments_lexer": "ipython3",
   "version": "3.10.12"
  }
 },
 "nbformat": 4,
 "nbformat_minor": 5
}
